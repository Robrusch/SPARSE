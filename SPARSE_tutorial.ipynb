{
 "cells": [
  {
   "cell_type": "markdown",
   "id": "f6404f9f-a4f2-4e80-a9c0-20b4473ac6c6",
   "metadata": {},
   "source": [
    "# Tutorial notebook for SPARSE"
   ]
  },
  {
   "cell_type": "markdown",
   "id": "0c39aa52-5569-4a0d-8c42-ff6eb89be3e5",
   "metadata": {},
   "source": [
    "This notebook contains an application of the SPARSE module to a relatively simple system of two coupled potentials."
   ]
  },
  {
   "cell_type": "markdown",
   "id": "6f069dc0-17ba-473f-91dd-96d96a3738e5",
   "metadata": {},
   "source": [
    "# Introduction"
   ]
  },
  {
   "cell_type": "markdown",
   "id": "d76be152-a243-41fb-b9c0-90b218f67652",
   "metadata": {},
   "source": [
    "### Import"
   ]
  },
  {
   "cell_type": "markdown",
   "id": "5020b66d-d54a-4bc9-bfe0-c81a865fa3a3",
   "metadata": {},
   "source": [
    "**IMPORTANT:** To successfully load the SPARSE module, there need to be two files inside the working directory called *channels.csv* and *potential.csv*.\n",
    "\n",
    "The module comes with a script which generates the files used for this notebook. Let us run it:"
   ]
  },
  {
   "cell_type": "code",
   "execution_count": 1,
   "id": "0aad2ae1-e02e-4d6a-9b37-3fc5b1899dfc",
   "metadata": {},
   "outputs": [
    {
     "name": "stdout",
     "output_type": "stream",
     "text": [
      "writing channels... \n",
      "writing potential... \n"
     ]
    }
   ],
   "source": [
    "run \"example_potential.py\""
   ]
  },
  {
   "cell_type": "markdown",
   "id": "1a14fe5a-d585-4135-b730-36abc2927452",
   "metadata": {},
   "source": [
    "It is preferable to load the module via an import statement.\n",
    "Running the file sparse.py in an open IPython console also works, but it will disable some multiprocessing features."
   ]
  },
  {
   "cell_type": "code",
   "execution_count": 2,
   "id": "23117d3c-0f58-4010-8bc3-d36646e33d93",
   "metadata": {},
   "outputs": [],
   "source": [
    "from sparse import *"
   ]
  },
  {
   "cell_type": "markdown",
   "id": "a829b221-d803-4167-9bce-c763aaf59ef5",
   "metadata": {},
   "source": [
    "Note that loading sparse with a star import also imports NumPy as **np** and Pandas as **pd**."
   ]
  },
  {
   "cell_type": "code",
   "execution_count": 3,
   "id": "fb71d4c9-2c59-4349-97dc-dada0dc345dd",
   "metadata": {},
   "outputs": [],
   "source": [
    "from utils import poles, amplitudes, composition"
   ]
  },
  {
   "cell_type": "markdown",
   "id": "1ee2b5d4-e0d6-4cf9-906b-f447c5d4ffc5",
   "metadata": {},
   "source": [
    "The utils module contains useful functions to analyze the results of the SPARSE algorithm:\n",
    "\n",
    "*poles:* calculates the scattering poles by extrapolating an input *K*-matrix to complex energies.\n",
    "\n",
    "*amplitudes:* calculates the scattering amplitudes for real energies from an input *K*-matrix.\n",
    "\n",
    "*composition:* calculates the probabilities of a bound state from an input reduced radial wave function."
   ]
  },
  {
   "cell_type": "markdown",
   "id": "1eaba608-5754-46b3-9686-7542ed332452",
   "metadata": {},
   "source": [
    "### Setup"
   ]
  },
  {
   "cell_type": "markdown",
   "id": "9fb22b1d-f459-43e5-ac18-fb4660839205",
   "metadata": {},
   "source": [
    "The potential metadata is loaded from a csv file called *channels.csv* and stored in a global Pandas DataFrame called **channels**. Let us have a look at the channels in this example:"
   ]
  },
  {
   "cell_type": "code",
   "execution_count": 4,
   "id": "87f54984-d286-465e-9c0a-42b0aa8629ff",
   "metadata": {},
   "outputs": [
    {
     "data": {
      "text/html": [
       "<div>\n",
       "<style scoped>\n",
       "    .dataframe tbody tr th:only-of-type {\n",
       "        vertical-align: middle;\n",
       "    }\n",
       "\n",
       "    .dataframe tbody tr th {\n",
       "        vertical-align: top;\n",
       "    }\n",
       "\n",
       "    .dataframe thead th {\n",
       "        text-align: right;\n",
       "    }\n",
       "</style>\n",
       "<table border=\"1\" class=\"dataframe\">\n",
       "  <thead>\n",
       "    <tr style=\"text-align: right;\">\n",
       "      <th></th>\n",
       "      <th>channel</th>\n",
       "      <th>l</th>\n",
       "      <th>threshold</th>\n",
       "      <th>mu</th>\n",
       "    </tr>\n",
       "  </thead>\n",
       "  <tbody>\n",
       "    <tr>\n",
       "      <th>1</th>\n",
       "      <td>Lower (P-wave)</td>\n",
       "      <td>1</td>\n",
       "      <td>0.0</td>\n",
       "      <td>1000.0</td>\n",
       "    </tr>\n",
       "    <tr>\n",
       "      <th>2</th>\n",
       "      <td>Higher (S-wave)</td>\n",
       "      <td>0</td>\n",
       "      <td>100.0</td>\n",
       "      <td>1000.0</td>\n",
       "    </tr>\n",
       "  </tbody>\n",
       "</table>\n",
       "</div>"
      ],
      "text/plain": [
       "           channel  l  threshold      mu\n",
       "1   Lower (P-wave)  1        0.0  1000.0\n",
       "2  Higher (S-wave)  0      100.0  1000.0"
      ]
     },
     "execution_count": 4,
     "metadata": {},
     "output_type": "execute_result"
    }
   ],
   "source": [
    "channels"
   ]
  },
  {
   "cell_type": "markdown",
   "id": "c6b4557d-a262-4728-a796-efc0446ce935",
   "metadata": {},
   "source": [
    "The potential itself is loaded from a csv file called *potential.csv* and stored in a global Pandas DataFrame called **potential**. Observe that each row of the DataFrame contains the flattened potential matrix at a given position."
   ]
  },
  {
   "cell_type": "code",
   "execution_count": 5,
   "id": "31235a87-4723-4378-af86-f605aae35348",
   "metadata": {},
   "outputs": [
    {
     "data": {
      "text/html": [
       "<div>\n",
       "<style scoped>\n",
       "    .dataframe tbody tr th:only-of-type {\n",
       "        vertical-align: middle;\n",
       "    }\n",
       "\n",
       "    .dataframe tbody tr th {\n",
       "        vertical-align: top;\n",
       "    }\n",
       "\n",
       "    .dataframe thead tr th {\n",
       "        text-align: left;\n",
       "    }\n",
       "</style>\n",
       "<table border=\"1\" class=\"dataframe\">\n",
       "  <thead>\n",
       "    <tr>\n",
       "      <th>row</th>\n",
       "      <th colspan=\"2\" halign=\"left\">1</th>\n",
       "      <th colspan=\"2\" halign=\"left\">2</th>\n",
       "    </tr>\n",
       "    <tr>\n",
       "      <th>column</th>\n",
       "      <th>1</th>\n",
       "      <th>2</th>\n",
       "      <th>1</th>\n",
       "      <th>2</th>\n",
       "    </tr>\n",
       "  </thead>\n",
       "  <tbody>\n",
       "    <tr>\n",
       "      <th>0.000001</th>\n",
       "      <td>49899.999501</td>\n",
       "      <td>5.000000e-07</td>\n",
       "      <td>5.000000e-07</td>\n",
       "      <td>49999.999501</td>\n",
       "    </tr>\n",
       "    <tr>\n",
       "      <th>0.000002</th>\n",
       "      <td>24899.999004</td>\n",
       "      <td>2.000000e-06</td>\n",
       "      <td>2.000000e-06</td>\n",
       "      <td>24999.999004</td>\n",
       "    </tr>\n",
       "    <tr>\n",
       "      <th>0.000003</th>\n",
       "      <td>16566.665176</td>\n",
       "      <td>4.500000e-06</td>\n",
       "      <td>4.500000e-06</td>\n",
       "      <td>16666.665176</td>\n",
       "    </tr>\n",
       "    <tr>\n",
       "      <th>0.000004</th>\n",
       "      <td>12399.998016</td>\n",
       "      <td>7.999999e-06</td>\n",
       "      <td>7.999999e-06</td>\n",
       "      <td>12499.998016</td>\n",
       "    </tr>\n",
       "    <tr>\n",
       "      <th>0.000005</th>\n",
       "      <td>9899.997525</td>\n",
       "      <td>1.250000e-05</td>\n",
       "      <td>1.250000e-05</td>\n",
       "      <td>9999.997525</td>\n",
       "    </tr>\n",
       "  </tbody>\n",
       "</table>\n",
       "</div>"
      ],
      "text/plain": [
       "row                  1                           2              \n",
       "column               1             2             1             2\n",
       "0.000001  49899.999501  5.000000e-07  5.000000e-07  49999.999501\n",
       "0.000002  24899.999004  2.000000e-06  2.000000e-06  24999.999004\n",
       "0.000003  16566.665176  4.500000e-06  4.500000e-06  16666.665176\n",
       "0.000004  12399.998016  7.999999e-06  7.999999e-06  12499.998016\n",
       "0.000005   9899.997525  1.250000e-05  1.250000e-05   9999.997525"
      ]
     },
     "execution_count": 5,
     "metadata": {},
     "output_type": "execute_result"
    }
   ],
   "source": [
    "potential.head()"
   ]
  },
  {
   "cell_type": "markdown",
   "id": "b4ef4162-8346-475e-a2ad-00ae9b548080",
   "metadata": {},
   "source": [
    "Let us plot the potential matrix. Note the coupling potential in the off-diagonal elements."
   ]
  },
  {
   "cell_type": "code",
   "execution_count": 6,
   "id": "f69c7010-862d-4e28-b0e7-4056ff4379cc",
   "metadata": {},
   "outputs": [
    {
     "data": {
      "image/png": "[encoded data removed]",
      "text/plain": [
       "<Figure size 640x480 with 1 Axes>"
      ]
     },
     "metadata": {},
     "output_type": "display_data"
    }
   ],
   "source": [
    "potential.plot(xlim=(0,0.05), ylim=(-100,200));"
   ]
  },
  {
   "cell_type": "markdown",
   "id": "ca1ddecb-6e10-4f0d-b0ca-d685eb00d761",
   "metadata": {},
   "source": [
    "Based on the numerical inputs, SPARSE calculates conservative energy constraints that are stored inside global variables.  \n",
    "Scattering states can only be calculated for energies between a minimum emin and a maximum emax.  \n",
    "They also cannot be calculated for energies too close to the thresholds.  \n",
    "The energy exclusion region around the thresholds are stored inside an array called elims."
   ]
  },
  {
   "cell_type": "code",
   "execution_count": 7,
   "id": "b413c156-9c79-4e87-af0c-cf4b34405b69",
   "metadata": {},
   "outputs": [
    {
     "name": "stdout",
     "output_type": "stream",
     "text": [
      "Minimum scattering energy: 0.0\n",
      "Maxmimum scattering energy: 4934802200.54468\n",
      "Energy exclusion regions around thresholds:\n",
      "[-0.05        0.08635073]\n",
      "[ 99.95      100.0054745]\n"
     ]
    }
   ],
   "source": [
    "print(f'Minimum scattering energy: {emin}')\n",
    "print(f'Maxmimum scattering energy: {emax}')\n",
    "print('Energy exclusion regions around thresholds:')\n",
    "for elim in elims.T:\n",
    "    print(elim)"
   ]
  },
  {
   "cell_type": "markdown",
   "id": "f4df3774-262c-46e3-bf1f-08acad7a054f",
   "metadata": {},
   "source": [
    "## Application"
   ]
  },
  {
   "cell_type": "markdown",
   "id": "c55d213c-a4c4-4c40-a0ef-c7d155885356",
   "metadata": {},
   "source": [
    "### Bound states"
   ]
  },
  {
   "cell_type": "markdown",
   "id": "e82b20b1-4544-46e1-affa-ce85997ddd0e",
   "metadata": {},
   "source": [
    "The SPARSE module is primarily designed for scattering states, but it also contains a handy bound state solver. Let us calculate the bound state energies and reduced radial wave functions in this potential matrix:"
   ]
  },
  {
   "cell_type": "code",
   "execution_count": 8,
   "id": "b89869f0-6e45-4b9f-98c5-7c10d53e2896",
   "metadata": {},
   "outputs": [
    {
     "data": {
      "image/png": "[encoded data removed]",
      "text/plain": [
       "<Figure size 640x480 with 1 Axes>"
      ]
     },
     "metadata": {},
     "output_type": "display_data"
    }
   ],
   "source": [
    "masses, reduced_radial_wave_functions = bound_states(1, -20)\n",
    "for i, psi in enumerate(reduced_radial_wave_functions):\n",
    "    psi.plot(title=f\"Bound state at {masses[i]:.2f}\")"
   ]
  },
  {
   "cell_type": "markdown",
   "id": "383a6837-f3f0-4fd9-bba5-e970d675a755",
   "metadata": {},
   "source": [
    "Note the mixture between the two channels because of the couplings. Let us calculate the probabilities:"
   ]
  },
  {
   "cell_type": "code",
   "execution_count": 9,
   "id": "bafa446f-af25-481d-9dcb-2c791807456f",
   "metadata": {},
   "outputs": [
    {
     "name": "stdout",
     "output_type": "stream",
     "text": [
      "Probabilities for bound state at -12.50\n",
      "1    0.970417\n",
      "2    0.029583\n",
      "dtype: float64\n"
     ]
    }
   ],
   "source": [
    "for i, psi in enumerate(reduced_radial_wave_functions):\n",
    "    print(f\"Probabilities for bound state at {masses[i]:.2f}\")\n",
    "    print(composition(psi))"
   ]
  },
  {
   "cell_type": "markdown",
   "id": "c45c3dce-477a-4a03-a769-52389e0c4928",
   "metadata": {},
   "source": [
    "## *K*-matrix"
   ]
  },
  {
   "cell_type": "markdown",
   "id": "0da67cca-aa86-4e82-87ca-d513acec9a25",
   "metadata": {},
   "source": [
    "For a less trivial application, let us now calculate the *K*-matrix for energies above the threshold at 0.\n",
    "For faster execution (at the expense of higher memory consuption), specify a number of parallel processes.\n",
    "The number of parallel processes should not be larger than the number of cores on the machine executing the code."
   ]
  },
  {
   "cell_type": "code",
   "execution_count": 10,
   "id": "92060e0a-44f8-4a0a-a91e-b4b82c8ccfbb",
   "metadata": {},
   "outputs": [
    {
     "data": {
      "image/png": "[encoded data removed]",
      "text/plain": [
       "<Figure size 640x480 with 1 Axes>"
      ]
     },
     "metadata": {},
     "output_type": "display_data"
    }
   ],
   "source": [
    "energies = np.linspace(0, 80, 801)\n",
    "# We exclude the first value of energies, because energies[0] coincides with the threshold at 0.\n",
    "kmat = k_matrices(energies[1:], processes=12)\n",
    "kmat.plot();"
   ]
  },
  {
   "cell_type": "markdown",
   "id": "8d4dde38-531a-4396-b25d-70a65a2c2339",
   "metadata": {},
   "source": [
    "The *K*-matrix completely determines the scattering problem. Let us use the amplitude function of the utils module to calculate the scattering amplitudes:"
   ]
  },
  {
   "cell_type": "code",
   "execution_count": 11,
   "id": "2f9ecf6c-2ef2-4718-ae03-c01c2b341163",
   "metadata": {},
   "outputs": [
    {
     "data": {
      "image/png": "[encoded data removed]",
      "text/plain": [
       "<Figure size 640x480 with 1 Axes>"
      ]
     },
     "metadata": {},
     "output_type": "display_data"
    }
   ],
   "source": [
    "amps = amplitudes(kmat)\n",
    "np.square(abs(amps)).plot();"
   ]
  },
  {
   "cell_type": "markdown",
   "id": "ccef9855-c323-48ed-ab0b-c1c8d10e0323",
   "metadata": {},
   "source": [
    "Seems complicated! Note that the nonresonant background is expected because of the bound state near threshold. If we want to establish the pole structure of the signal near 70, we can use the pole extrapolation function defined in the utils module:"
   ]
  },
  {
   "cell_type": "code",
   "execution_count": 12,
   "id": "d6b551cc-0247-44cf-b3b2-bdb3b74161af",
   "metadata": {},
   "outputs": [
    {
     "name": "stdout",
     "output_type": "stream",
     "text": [
      "Extrapolated T-matrix poles:\n",
      "[67.01713717-0.01942918j]\n",
      "For comparison, the K-matrix poles are:\n",
      "[67.09669514+0.j]\n",
      "Resonance mass: 67.02\n",
      "Resonance width: 0.04\n"
     ]
    }
   ],
   "source": [
    "t_poles, k_poles = poles(kmat, rtol=1e-3, clean_up_tol=10)\n",
    "print(\"Extrapolated T-matrix poles:\")\n",
    "print(t_poles)\n",
    "print(\"For comparison, the K-matrix poles are:\")\n",
    "print(k_poles)\n",
    "for pole in t_poles:\n",
    "    print(f\"Resonance mass: {pole.real:.2f}\")\n",
    "    print(f\"Resonance width: {-2 * pole.imag:.2f}\")"
   ]
  },
  {
   "cell_type": "markdown",
   "id": "55510b3b-d682-452a-813b-c2418988869a",
   "metadata": {},
   "source": [
    "So, there is indeed a narrow resonance on top of the nonresonant backround."
   ]
  }
 ],
 "metadata": {
  "kernelspec": {
   "display_name": "Python 3 (ipykernel)",
   "language": "python",
   "name": "python3"
  },
  "language_info": {
   "codemirror_mode": {
    "name": "ipython",
    "version": 3
   },
   "file_extension": ".py",
   "mimetype": "text/x-python",
   "name": "python",
   "nbconvert_exporter": "python",
   "pygments_lexer": "ipython3",
   "version": "3.11.9"
  }
 },
 "nbformat": 4,
 "nbformat_minor": 5
}
